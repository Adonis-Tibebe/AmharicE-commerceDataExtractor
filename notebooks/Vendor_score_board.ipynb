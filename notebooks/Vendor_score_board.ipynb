{
 "cells": [
  {
   "cell_type": "code",
   "execution_count": 1,
   "id": "f5874d6d",
   "metadata": {},
   "outputs": [],
   "source": [
    "%load_ext autoreload\n",
    "%autoreload 2\n",
    "\n",
    "import os \n",
    "import sys\n",
    "import pandas as pd\n",
    "from transformers import AutoTokenizer\n",
    "from telethon import TelegramClient\n",
    "\n",
    "sys.path.append(os.path.abspath('../src'))  # to import modules from the src/service directory\n",
    "from services.telegram_scrapper import run_scrapper\n",
    "from utils.utils import clean_data, normalize_data, hf_tokenize, regex_tokenize\n",
    "\n",
    "sys.path.append(os.path.abspath('../config'))\n",
    "from config import load_credentials\n",
    "\n",
    "\n"
   ]
  },
  {
   "cell_type": "markdown",
   "id": "89593464",
   "metadata": {},
   "source": [
    "# Reaload Data From Telegram but with views data"
   ]
  },
  {
   "cell_type": "code",
   "execution_count": 2,
   "id": "08c9c390",
   "metadata": {},
   "outputs": [
    {
     "name": "stdout",
     "output_type": "stream",
     "text": [
      "Scrapped Data successfully ✅\n"
     ]
    }
   ],
   "source": [
    "creds = load_credentials() # load credentials from environment\n",
    "\n",
    "# initializing client\n",
    "client = TelegramClient(\"scraping_session;.session\", creds[\"api_id\"], creds[\"api_hash\"])\n",
    "\n",
    "#await run_scrapper(client) #run the entry point function of the telegram_scrapper \n",
    "print(\"Scrapped Data successfully ✅\")"
   ]
  },
  {
   "cell_type": "code",
   "execution_count": 3,
   "id": "8ccc4a9d",
   "metadata": {},
   "outputs": [],
   "source": [
    "data = pd.read_csv(\"../data/raw/telegram_WithViews_data.csv\") # read the scrapped data as a dataframe"
   ]
  },
  {
   "cell_type": "code",
   "execution_count": 4,
   "id": "3a34e123",
   "metadata": {},
   "outputs": [
    {
     "data": {
      "text/html": [
       "<div>\n",
       "<style scoped>\n",
       "    .dataframe tbody tr th:only-of-type {\n",
       "        vertical-align: middle;\n",
       "    }\n",
       "\n",
       "    .dataframe tbody tr th {\n",
       "        vertical-align: top;\n",
       "    }\n",
       "\n",
       "    .dataframe thead th {\n",
       "        text-align: right;\n",
       "    }\n",
       "</style>\n",
       "<table border=\"1\" class=\"dataframe\">\n",
       "  <thead>\n",
       "    <tr style=\"text-align: right;\">\n",
       "      <th></th>\n",
       "      <th>Channel Title</th>\n",
       "      <th>Channel Username</th>\n",
       "      <th>ID</th>\n",
       "      <th>Views</th>\n",
       "      <th>Message</th>\n",
       "      <th>Date</th>\n",
       "      <th>Media Path</th>\n",
       "    </tr>\n",
       "  </thead>\n",
       "  <tbody>\n",
       "    <tr>\n",
       "      <th>0</th>\n",
       "      <td>Sheger online-store</td>\n",
       "      <td>@Shageronlinestore</td>\n",
       "      <td>7437</td>\n",
       "      <td>1773.0</td>\n",
       "      <td>Waterproof  Baby Urine Mat Cover\\n\\nውሃ የማያስገባ ...</td>\n",
       "      <td>2025-06-25 14:47:35+00:00</td>\n",
       "      <td>../data/raw/photo\\@Shageronlinestore_7437.jpg</td>\n",
       "    </tr>\n",
       "    <tr>\n",
       "      <th>1</th>\n",
       "      <td>Sheger online-store</td>\n",
       "      <td>@Shageronlinestore</td>\n",
       "      <td>7436</td>\n",
       "      <td>1750.0</td>\n",
       "      <td>NaN</td>\n",
       "      <td>2025-06-25 14:47:35+00:00</td>\n",
       "      <td>../data/raw/photo\\@Shageronlinestore_7436.jpg</td>\n",
       "    </tr>\n",
       "    <tr>\n",
       "      <th>2</th>\n",
       "      <td>Sheger online-store</td>\n",
       "      <td>@Shageronlinestore</td>\n",
       "      <td>7435</td>\n",
       "      <td>1750.0</td>\n",
       "      <td>NaN</td>\n",
       "      <td>2025-06-25 14:47:35+00:00</td>\n",
       "      <td>../data/raw/photo\\@Shageronlinestore_7435.jpg</td>\n",
       "    </tr>\n",
       "    <tr>\n",
       "      <th>3</th>\n",
       "      <td>Sheger online-store</td>\n",
       "      <td>@Shageronlinestore</td>\n",
       "      <td>7434</td>\n",
       "      <td>1742.0</td>\n",
       "      <td>NaN</td>\n",
       "      <td>2025-06-25 14:47:35+00:00</td>\n",
       "      <td>../data/raw/photo\\@Shageronlinestore_7434.jpg</td>\n",
       "    </tr>\n",
       "    <tr>\n",
       "      <th>4</th>\n",
       "      <td>Sheger online-store</td>\n",
       "      <td>@Shageronlinestore</td>\n",
       "      <td>7433</td>\n",
       "      <td>2620.0</td>\n",
       "      <td>2 tier stainless still dish drainer rack\\n\\n...</td>\n",
       "      <td>2025-06-25 09:56:08+00:00</td>\n",
       "      <td>NaN</td>\n",
       "    </tr>\n",
       "    <tr>\n",
       "      <th>...</th>\n",
       "      <td>...</td>\n",
       "      <td>...</td>\n",
       "      <td>...</td>\n",
       "      <td>...</td>\n",
       "      <td>...</td>\n",
       "      <td>...</td>\n",
       "      <td>...</td>\n",
       "    </tr>\n",
       "    <tr>\n",
       "      <th>2995</th>\n",
       "      <td>NEVA COMPUTER®</td>\n",
       "      <td>@nevacomputer</td>\n",
       "      <td>8100</td>\n",
       "      <td>2282.0</td>\n",
       "      <td>NaN</td>\n",
       "      <td>2023-11-28 05:55:47+00:00</td>\n",
       "      <td>../data/raw/photo\\@nevacomputer_8100.jpg</td>\n",
       "    </tr>\n",
       "    <tr>\n",
       "      <th>2996</th>\n",
       "      <td>NEVA COMPUTER®</td>\n",
       "      <td>@nevacomputer</td>\n",
       "      <td>8099</td>\n",
       "      <td>1888.0</td>\n",
       "      <td>𝗡𝗘𝗪 𝗔𝗥𝗥𝗜𝗩𝗔𝗟 from \\n\\n\\n🅑🅡🅐🅝🅓 : Dell inspiron \\...</td>\n",
       "      <td>2023-11-28 05:55:47+00:00</td>\n",
       "      <td>../data/raw/photo\\@nevacomputer_8099.jpg</td>\n",
       "    </tr>\n",
       "    <tr>\n",
       "      <th>2997</th>\n",
       "      <td>NEVA COMPUTER®</td>\n",
       "      <td>@nevacomputer</td>\n",
       "      <td>8098</td>\n",
       "      <td>NaN</td>\n",
       "      <td>NaN</td>\n",
       "      <td>2023-11-28 05:51:37+00:00</td>\n",
       "      <td>NaN</td>\n",
       "    </tr>\n",
       "    <tr>\n",
       "      <th>2998</th>\n",
       "      <td>NEVA COMPUTER®</td>\n",
       "      <td>@nevacomputer</td>\n",
       "      <td>8097</td>\n",
       "      <td>2178.0</td>\n",
       "      <td>NaN</td>\n",
       "      <td>2023-11-28 05:50:59+00:00</td>\n",
       "      <td>../data/raw/photo\\@nevacomputer_8097.jpg</td>\n",
       "    </tr>\n",
       "    <tr>\n",
       "      <th>2999</th>\n",
       "      <td>NEVA COMPUTER®</td>\n",
       "      <td>@nevacomputer</td>\n",
       "      <td>8096</td>\n",
       "      <td>2253.0</td>\n",
       "      <td>NaN</td>\n",
       "      <td>2023-11-28 05:50:59+00:00</td>\n",
       "      <td>../data/raw/photo\\@nevacomputer_8096.jpg</td>\n",
       "    </tr>\n",
       "  </tbody>\n",
       "</table>\n",
       "<p>3000 rows × 7 columns</p>\n",
       "</div>"
      ],
      "text/plain": [
       "            Channel Title    Channel Username    ID   Views  \\\n",
       "0     Sheger online-store  @Shageronlinestore  7437  1773.0   \n",
       "1     Sheger online-store  @Shageronlinestore  7436  1750.0   \n",
       "2     Sheger online-store  @Shageronlinestore  7435  1750.0   \n",
       "3     Sheger online-store  @Shageronlinestore  7434  1742.0   \n",
       "4     Sheger online-store  @Shageronlinestore  7433  2620.0   \n",
       "...                   ...                 ...   ...     ...   \n",
       "2995       NEVA COMPUTER®       @nevacomputer  8100  2282.0   \n",
       "2996       NEVA COMPUTER®       @nevacomputer  8099  1888.0   \n",
       "2997       NEVA COMPUTER®       @nevacomputer  8098     NaN   \n",
       "2998       NEVA COMPUTER®       @nevacomputer  8097  2178.0   \n",
       "2999       NEVA COMPUTER®       @nevacomputer  8096  2253.0   \n",
       "\n",
       "                                                Message  \\\n",
       "0     Waterproof  Baby Urine Mat Cover\\n\\nውሃ የማያስገባ ...   \n",
       "1                                                   NaN   \n",
       "2                                                   NaN   \n",
       "3                                                   NaN   \n",
       "4       2 tier stainless still dish drainer rack\\n\\n...   \n",
       "...                                                 ...   \n",
       "2995                                                NaN   \n",
       "2996  𝗡𝗘𝗪 𝗔𝗥𝗥𝗜𝗩𝗔𝗟 from \\n\\n\\n🅑🅡🅐🅝🅓 : Dell inspiron \\...   \n",
       "2997                                                NaN   \n",
       "2998                                                NaN   \n",
       "2999                                                NaN   \n",
       "\n",
       "                           Date                                     Media Path  \n",
       "0     2025-06-25 14:47:35+00:00  ../data/raw/photo\\@Shageronlinestore_7437.jpg  \n",
       "1     2025-06-25 14:47:35+00:00  ../data/raw/photo\\@Shageronlinestore_7436.jpg  \n",
       "2     2025-06-25 14:47:35+00:00  ../data/raw/photo\\@Shageronlinestore_7435.jpg  \n",
       "3     2025-06-25 14:47:35+00:00  ../data/raw/photo\\@Shageronlinestore_7434.jpg  \n",
       "4     2025-06-25 09:56:08+00:00                                            NaN  \n",
       "...                         ...                                            ...  \n",
       "2995  2023-11-28 05:55:47+00:00       ../data/raw/photo\\@nevacomputer_8100.jpg  \n",
       "2996  2023-11-28 05:55:47+00:00       ../data/raw/photo\\@nevacomputer_8099.jpg  \n",
       "2997  2023-11-28 05:51:37+00:00                                            NaN  \n",
       "2998  2023-11-28 05:50:59+00:00       ../data/raw/photo\\@nevacomputer_8097.jpg  \n",
       "2999  2023-11-28 05:50:59+00:00       ../data/raw/photo\\@nevacomputer_8096.jpg  \n",
       "\n",
       "[3000 rows x 7 columns]"
      ]
     },
     "execution_count": 4,
     "metadata": {},
     "output_type": "execute_result"
    }
   ],
   "source": [
    "data.rename(columns={'Message': 'Views', 'Views': 'Message'}, inplace=True)\n",
    "data\n"
   ]
  },
  {
   "cell_type": "code",
   "execution_count": 5,
   "id": "e233c484",
   "metadata": {},
   "outputs": [
    {
     "name": "stdout",
     "output_type": "stream",
     "text": [
      "Total number of messages scrapped: 3000\n",
      "with columns:\n",
      "Channel Title\n",
      "\n",
      "Channel Username\n",
      "\n",
      "ID\n",
      "\n",
      "Views\n",
      "\n",
      "Message\n",
      "\n",
      "Date\n",
      "\n",
      "Media Path\n",
      "\n",
      "We can see that we have 7 columns✅\n"
     ]
    }
   ],
   "source": [
    "print(f\"Total number of messages scrapped: {data.shape[0]}\") # print the total number of messages scrapped\n",
    "print(f\"with columns:\")\n",
    "for col in data.columns:\n",
    "    print(col + \"\\n\")\n",
    "print(f\"We can see that we have {len(data.columns)} columns✅\")"
   ]
  },
  {
   "cell_type": "code",
   "execution_count": 6,
   "id": "6101b97f",
   "metadata": {},
   "outputs": [
    {
     "data": {
      "text/plain": [
       "Channel Title          0\n",
       "Channel Username       0\n",
       "ID                     0\n",
       "Views                  3\n",
       "Message             1222\n",
       "Date                   0\n",
       "Media Path           135\n",
       "dtype: int64"
      ]
     },
     "execution_count": 6,
     "metadata": {},
     "output_type": "execute_result"
    }
   ],
   "source": [
    "data.isna().sum() # check for missing values in the dataframe "
   ]
  },
  {
   "cell_type": "code",
   "execution_count": 7,
   "id": "584e9b1f",
   "metadata": {},
   "outputs": [
    {
     "name": "stdout",
     "output_type": "stream",
     "text": [
      "There are 123 messages in the dataset without photo\n"
     ]
    }
   ],
   "source": [
    "msg_with_no_photo = data[(data[\"Message\"].isna() == False) & (data[\"Media Path\"].isna())].shape[0] # check for messages that have a message but no media path(picture)\n",
    "print(f\"There are {msg_with_no_photo} messages in the dataset without photo\")"
   ]
  },
  {
   "cell_type": "markdown",
   "id": "c4d0de84",
   "metadata": {},
   "source": [
    "# The next task is to clean the Dataset"
   ]
  },
  {
   "cell_type": "code",
   "execution_count": 8,
   "id": "01bdfa0c",
   "metadata": {},
   "outputs": [],
   "source": [
    "cleaned_data = clean_data(data) # clean the data by removing duplicates and messages with no text and media\n"
   ]
  },
  {
   "cell_type": "code",
   "execution_count": 9,
   "id": "03c304f3",
   "metadata": {},
   "outputs": [
    {
     "name": "stdout",
     "output_type": "stream",
     "text": [
      "Total number of messages after cleaning: 1778\n"
     ]
    },
    {
     "data": {
      "text/plain": [
       "Channel Title       0\n",
       "Channel Username    0\n",
       "ID                  0\n",
       "Views               0\n",
       "Message             0\n",
       "Date                0\n",
       "Media Path          0\n",
       "dtype: int64"
      ]
     },
     "execution_count": 9,
     "metadata": {},
     "output_type": "execute_result"
    }
   ],
   "source": [
    "print(f\"Total number of messages after cleaning: {cleaned_data.shape[0]}\") # print the total number of messages after cleaning\n",
    "cleaned_data.isna().sum() # check for missing values in the cleaned dataframe"
   ]
  },
  {
   "cell_type": "markdown",
   "id": "a389851c",
   "metadata": {},
   "source": [
    "# Data Normalization"
   ]
  },
  {
   "cell_type": "code",
   "execution_count": 10,
   "id": "bd5fcfa4",
   "metadata": {},
   "outputs": [
    {
     "data": {
      "text/html": [
       "<div>\n",
       "<style scoped>\n",
       "    .dataframe tbody tr th:only-of-type {\n",
       "        vertical-align: middle;\n",
       "    }\n",
       "\n",
       "    .dataframe tbody tr th {\n",
       "        vertical-align: top;\n",
       "    }\n",
       "\n",
       "    .dataframe thead th {\n",
       "        text-align: right;\n",
       "    }\n",
       "</style>\n",
       "<table border=\"1\" class=\"dataframe\">\n",
       "  <thead>\n",
       "    <tr style=\"text-align: right;\">\n",
       "      <th></th>\n",
       "      <th>Channel Title</th>\n",
       "      <th>Channel Username</th>\n",
       "      <th>ID</th>\n",
       "      <th>Views</th>\n",
       "      <th>Message</th>\n",
       "      <th>Date</th>\n",
       "      <th>Media Path</th>\n",
       "      <th>hashtags</th>\n",
       "    </tr>\n",
       "  </thead>\n",
       "  <tbody>\n",
       "    <tr>\n",
       "      <th>0</th>\n",
       "      <td>Sheger online-store</td>\n",
       "      <td>@Shageronlinestore</td>\n",
       "      <td>7437</td>\n",
       "      <td>1773.0</td>\n",
       "      <td>Waterproof Baby Urine Mat Cover ውሃ የማያስገባ እንደገ...</td>\n",
       "      <td>2025-06-25 14:47:35+00:00</td>\n",
       "      <td>../data/raw/photo\\@Shageronlinestore_7437.jpg</td>\n",
       "      <td>[ዛም_ሞል]</td>\n",
       "    </tr>\n",
       "    <tr>\n",
       "      <th>1</th>\n",
       "      <td>Sheger online-store</td>\n",
       "      <td>@Shageronlinestore</td>\n",
       "      <td>7433</td>\n",
       "      <td>2620.0</td>\n",
       "      <td>2 tier stainless still dish drainer rack የታጠቡ ...</td>\n",
       "      <td>2025-06-25 09:56:08+00:00</td>\n",
       "      <td>Not Available</td>\n",
       "      <td>[ዛም_ሞል]</td>\n",
       "    </tr>\n",
       "    <tr>\n",
       "      <th>2</th>\n",
       "      <td>Sheger online-store</td>\n",
       "      <td>@Shageronlinestore</td>\n",
       "      <td>7431</td>\n",
       "      <td>2265.0</td>\n",
       "      <td>2 tier stainless still dish drainer rack የታጠቡ ...</td>\n",
       "      <td>2025-06-25 09:56:08+00:00</td>\n",
       "      <td>../data/raw/photo\\@Shageronlinestore_7431.jpg</td>\n",
       "      <td>[ዛም_ሞል]</td>\n",
       "    </tr>\n",
       "    <tr>\n",
       "      <th>3</th>\n",
       "      <td>Sheger online-store</td>\n",
       "      <td>@Shageronlinestore</td>\n",
       "      <td>7426</td>\n",
       "      <td>2591.0</td>\n",
       "      <td>የልብስ ማስጫ (ማድረቂያ) Three Layers of clothes hange...</td>\n",
       "      <td>2025-06-25 06:42:53+00:00</td>\n",
       "      <td>../data/raw/photo\\@Shageronlinestore_7426.jpg</td>\n",
       "      <td>[ዛም_ሞል]</td>\n",
       "    </tr>\n",
       "    <tr>\n",
       "      <th>4</th>\n",
       "      <td>Sheger online-store</td>\n",
       "      <td>@Shageronlinestore</td>\n",
       "      <td>7423</td>\n",
       "      <td>3134.0</td>\n",
       "      <td>5.5L Glass dispenser jar with Bamboo stand ለተለ...</td>\n",
       "      <td>2025-06-24 15:47:54+00:00</td>\n",
       "      <td>../data/raw/photo\\@Shageronlinestore_7423.jpg</td>\n",
       "      <td>[ዛም_ሞል]</td>\n",
       "    </tr>\n",
       "    <tr>\n",
       "      <th>...</th>\n",
       "      <td>...</td>\n",
       "      <td>...</td>\n",
       "      <td>...</td>\n",
       "      <td>...</td>\n",
       "      <td>...</td>\n",
       "      <td>...</td>\n",
       "      <td>...</td>\n",
       "      <td>...</td>\n",
       "    </tr>\n",
       "    <tr>\n",
       "      <th>1773</th>\n",
       "      <td>NEVA COMPUTER®</td>\n",
       "      <td>@nevacomputer</td>\n",
       "      <td>8106</td>\n",
       "      <td>2187.0</td>\n",
       "      <td>The 16GB DDR4 RAM Running @ 3200MHz and the Ei...</td>\n",
       "      <td>2023-11-28 12:29:04+00:00</td>\n",
       "      <td>../data/raw/photo\\@nevacomputer_8106.jpg</td>\n",
       "      <td>[no tag]</td>\n",
       "    </tr>\n",
       "    <tr>\n",
       "      <th>1774</th>\n",
       "      <td>NEVA COMPUTER®</td>\n",
       "      <td>@nevacomputer</td>\n",
       "      <td>8105</td>\n",
       "      <td>2011.0</td>\n",
       "      <td>This Alienware m15 R5 Ryzen Edition Gaming Lap...</td>\n",
       "      <td>2023-11-28 12:27:58+00:00</td>\n",
       "      <td>../data/raw/photo\\@nevacomputer_8105.jpg</td>\n",
       "      <td>[no tag]</td>\n",
       "    </tr>\n",
       "    <tr>\n",
       "      <th>1775</th>\n",
       "      <td>NEVA COMPUTER®</td>\n",
       "      <td>@nevacomputer</td>\n",
       "      <td>8103</td>\n",
       "      <td>2010.0</td>\n",
       "      <td>The Alienware m15 Ryzen Edition R5 is engineer...</td>\n",
       "      <td>2023-11-28 12:15:47+00:00</td>\n",
       "      <td>../data/raw/photo\\@nevacomputer_8103.jpg</td>\n",
       "      <td>[no tag]</td>\n",
       "    </tr>\n",
       "    <tr>\n",
       "      <th>1776</th>\n",
       "      <td>NEVA COMPUTER®</td>\n",
       "      <td>@nevacomputer</td>\n",
       "      <td>8102</td>\n",
       "      <td>1960.0</td>\n",
       "      <td>Dell Alienware M15 R5 15.6'' QHD Gaming Laptop...</td>\n",
       "      <td>2023-11-28 12:13:18+00:00</td>\n",
       "      <td>../data/raw/photo\\@nevacomputer_8102.jpg</td>\n",
       "      <td>[no tag]</td>\n",
       "    </tr>\n",
       "    <tr>\n",
       "      <th>1777</th>\n",
       "      <td>NEVA COMPUTER®</td>\n",
       "      <td>@nevacomputer</td>\n",
       "      <td>8099</td>\n",
       "      <td>1888.0</td>\n",
       "      <td>NEW ARRIVAL from BRAND : Dell inspiron DISPLAY...</td>\n",
       "      <td>2023-11-28 05:55:47+00:00</td>\n",
       "      <td>../data/raw/photo\\@nevacomputer_8099.jpg</td>\n",
       "      <td>[no tag]</td>\n",
       "    </tr>\n",
       "  </tbody>\n",
       "</table>\n",
       "<p>1778 rows × 8 columns</p>\n",
       "</div>"
      ],
      "text/plain": [
       "            Channel Title    Channel Username    ID   Views  \\\n",
       "0     Sheger online-store  @Shageronlinestore  7437  1773.0   \n",
       "1     Sheger online-store  @Shageronlinestore  7433  2620.0   \n",
       "2     Sheger online-store  @Shageronlinestore  7431  2265.0   \n",
       "3     Sheger online-store  @Shageronlinestore  7426  2591.0   \n",
       "4     Sheger online-store  @Shageronlinestore  7423  3134.0   \n",
       "...                   ...                 ...   ...     ...   \n",
       "1773       NEVA COMPUTER®       @nevacomputer  8106  2187.0   \n",
       "1774       NEVA COMPUTER®       @nevacomputer  8105  2011.0   \n",
       "1775       NEVA COMPUTER®       @nevacomputer  8103  2010.0   \n",
       "1776       NEVA COMPUTER®       @nevacomputer  8102  1960.0   \n",
       "1777       NEVA COMPUTER®       @nevacomputer  8099  1888.0   \n",
       "\n",
       "                                                Message  \\\n",
       "0     Waterproof Baby Urine Mat Cover ውሃ የማያስገባ እንደገ...   \n",
       "1     2 tier stainless still dish drainer rack የታጠቡ ...   \n",
       "2     2 tier stainless still dish drainer rack የታጠቡ ...   \n",
       "3     የልብስ ማስጫ (ማድረቂያ) Three Layers of clothes hange...   \n",
       "4     5.5L Glass dispenser jar with Bamboo stand ለተለ...   \n",
       "...                                                 ...   \n",
       "1773  The 16GB DDR4 RAM Running @ 3200MHz and the Ei...   \n",
       "1774  This Alienware m15 R5 Ryzen Edition Gaming Lap...   \n",
       "1775  The Alienware m15 Ryzen Edition R5 is engineer...   \n",
       "1776  Dell Alienware M15 R5 15.6'' QHD Gaming Laptop...   \n",
       "1777  NEW ARRIVAL from BRAND : Dell inspiron DISPLAY...   \n",
       "\n",
       "                           Date  \\\n",
       "0     2025-06-25 14:47:35+00:00   \n",
       "1     2025-06-25 09:56:08+00:00   \n",
       "2     2025-06-25 09:56:08+00:00   \n",
       "3     2025-06-25 06:42:53+00:00   \n",
       "4     2025-06-24 15:47:54+00:00   \n",
       "...                         ...   \n",
       "1773  2023-11-28 12:29:04+00:00   \n",
       "1774  2023-11-28 12:27:58+00:00   \n",
       "1775  2023-11-28 12:15:47+00:00   \n",
       "1776  2023-11-28 12:13:18+00:00   \n",
       "1777  2023-11-28 05:55:47+00:00   \n",
       "\n",
       "                                         Media Path  hashtags  \n",
       "0     ../data/raw/photo\\@Shageronlinestore_7437.jpg   [ዛም_ሞል]  \n",
       "1                                     Not Available   [ዛም_ሞል]  \n",
       "2     ../data/raw/photo\\@Shageronlinestore_7431.jpg   [ዛም_ሞል]  \n",
       "3     ../data/raw/photo\\@Shageronlinestore_7426.jpg   [ዛም_ሞል]  \n",
       "4     ../data/raw/photo\\@Shageronlinestore_7423.jpg   [ዛም_ሞል]  \n",
       "...                                             ...       ...  \n",
       "1773       ../data/raw/photo\\@nevacomputer_8106.jpg  [no tag]  \n",
       "1774       ../data/raw/photo\\@nevacomputer_8105.jpg  [no tag]  \n",
       "1775       ../data/raw/photo\\@nevacomputer_8103.jpg  [no tag]  \n",
       "1776       ../data/raw/photo\\@nevacomputer_8102.jpg  [no tag]  \n",
       "1777       ../data/raw/photo\\@nevacomputer_8099.jpg  [no tag]  \n",
       "\n",
       "[1778 rows x 8 columns]"
      ]
     },
     "execution_count": 10,
     "metadata": {},
     "output_type": "execute_result"
    }
   ],
   "source": [
    "cleaned_normalized_data = normalize_data(cleaned_data)\n",
    "cleaned_normalized_data.reset_index(drop=True, inplace=True)\n",
    "cleaned_normalized_data\n"
   ]
  },
  {
   "cell_type": "code",
   "execution_count": 11,
   "id": "5056fd4c",
   "metadata": {},
   "outputs": [
    {
     "name": "stdout",
     "output_type": "stream",
     "text": [
      "Index(['Channel Title', 'Channel Username', 'ID', 'Views', 'Message', 'Date',\n",
      "       'Media Path', 'hashtags'],\n",
      "      dtype='object')\n",
      "we have added a new 'hashtags' column to the dataframe✅\n"
     ]
    }
   ],
   "source": [
    "print(cleaned_normalized_data.columns)\n",
    "print(f\"we have added a new '{cleaned_normalized_data.columns[-1]}' column to the dataframe✅\")"
   ]
  },
  {
   "cell_type": "markdown",
   "id": "6960b3fb",
   "metadata": {},
   "source": [
    "# Next step is to create a Rich Profile for each Vendor(channal) in our dataset"
   ]
  },
  {
   "cell_type": "markdown",
   "id": "803cc17b",
   "metadata": {},
   "source": [
    "## Vendor Channel Activity & Consistency Analysis\n",
    "\n",
    "This analysis computes the **posting frequency** for each vendor channel in your Telegram dataset, providing insight into their business activity and consistency.\n",
    "\n",
    "- **Posting Frequency (Average Posts per Week):**  \n",
    "  For each vendor channel, we calculate the total number of posts and the time span (in weeks) between their first and last post. The average posts per week is then computed as:\n",
    "  "
   ]
  },
  {
   "cell_type": "code",
   "execution_count": 12,
   "id": "d7e2dd7e",
   "metadata": {},
   "outputs": [
    {
     "data": {
      "text/html": [
       "<div>\n",
       "<style scoped>\n",
       "    .dataframe tbody tr th:only-of-type {\n",
       "        vertical-align: middle;\n",
       "    }\n",
       "\n",
       "    .dataframe tbody tr th {\n",
       "        vertical-align: top;\n",
       "    }\n",
       "\n",
       "    .dataframe thead th {\n",
       "        text-align: right;\n",
       "    }\n",
       "</style>\n",
       "<table border=\"1\" class=\"dataframe\">\n",
       "  <thead>\n",
       "    <tr style=\"text-align: right;\">\n",
       "      <th></th>\n",
       "      <th>total_posts</th>\n",
       "      <th>weeks_active</th>\n",
       "      <th>avg_posts_per_week</th>\n",
       "    </tr>\n",
       "    <tr>\n",
       "      <th>Channel Title</th>\n",
       "      <th></th>\n",
       "      <th></th>\n",
       "      <th></th>\n",
       "    </tr>\n",
       "  </thead>\n",
       "  <tbody>\n",
       "    <tr>\n",
       "      <th>Sheger online-store</th>\n",
       "      <td>274</td>\n",
       "      <td>11.571429</td>\n",
       "      <td>23.679012</td>\n",
       "    </tr>\n",
       "    <tr>\n",
       "      <th>HellooMarket</th>\n",
       "      <td>576</td>\n",
       "      <td>50.571429</td>\n",
       "      <td>11.389831</td>\n",
       "    </tr>\n",
       "    <tr>\n",
       "      <th>Shewa Brand</th>\n",
       "      <td>512</td>\n",
       "      <td>91.571429</td>\n",
       "      <td>5.591264</td>\n",
       "    </tr>\n",
       "    <tr>\n",
       "      <th>NEVA COMPUTER®</th>\n",
       "      <td>180</td>\n",
       "      <td>81.571429</td>\n",
       "      <td>2.206655</td>\n",
       "    </tr>\n",
       "    <tr>\n",
       "      <th>Fashion tera</th>\n",
       "      <td>236</td>\n",
       "      <td>120.428571</td>\n",
       "      <td>1.959668</td>\n",
       "    </tr>\n",
       "  </tbody>\n",
       "</table>\n",
       "</div>"
      ],
      "text/plain": [
       "                     total_posts  weeks_active  avg_posts_per_week\n",
       "Channel Title                                                     \n",
       "Sheger online-store          274     11.571429           23.679012\n",
       "HellooMarket                 576     50.571429           11.389831\n",
       "Shewa Brand                  512     91.571429            5.591264\n",
       "NEVA COMPUTER®               180     81.571429            2.206655\n",
       "Fashion tera                 236    120.428571            1.959668"
      ]
     },
     "execution_count": 12,
     "metadata": {},
     "output_type": "execute_result"
    }
   ],
   "source": [
    "# Calculate Posting Frequency (Average Posts per Week) for Each Vendor Channel\n",
    "\n",
    "import pandas as pd\n",
    "\n",
    "# Assume your cleaned and normalized data is in 'cleaned_normalized_data'\n",
    "# and has at least these columns: 'Channel', 'Date' (or 'Timestamp')\n",
    "\n",
    "# Convert the date column to datetime if not already\n",
    "cleaned_normalized_data['Date'] = pd.to_datetime(cleaned_normalized_data['Date'])\n",
    "\n",
    "# Group by channel and calculate posting frequency\n",
    "vendor_stats = (\n",
    "    cleaned_normalized_data\n",
    "    .groupby('Channel Title')\n",
    "    .agg(\n",
    "        total_posts=('Message', 'count'),\n",
    "        first_post=('Date', 'min'),\n",
    "        last_post=('Date', 'max')\n",
    "    )\n",
    ")\n",
    "\n",
    "# Calculate number of weeks active for each channel\n",
    "vendor_stats['weeks_active'] = ((vendor_stats['last_post'] - vendor_stats['first_post']).dt.days / 7).clip(lower=1)\n",
    "\n",
    "# Calculate average posts per week\n",
    "vendor_stats['avg_posts_per_week'] = vendor_stats['total_posts'] / vendor_stats['weeks_active']\n",
    "\n",
    "# Display the results\n",
    "vendor_stats = vendor_stats.sort_values('avg_posts_per_week', ascending=False)\n",
    "vendor_stats[['total_posts', 'weeks_active', 'avg_posts_per_week']]"
   ]
  },
  {
   "cell_type": "code",
   "execution_count": 13,
   "id": "75104aad",
   "metadata": {},
   "outputs": [
    {
     "name": "stdout",
     "output_type": "stream",
     "text": [
      "Sheger online-store: {'total_posts': 274.0, 'weeks_active': 11.57, 'avg_posts_per_week': 23.68}\n",
      "HellooMarket: {'total_posts': 576.0, 'weeks_active': 50.57, 'avg_posts_per_week': 11.39}\n",
      "Shewa Brand: {'total_posts': 512.0, 'weeks_active': 91.57, 'avg_posts_per_week': 5.59}\n"
     ]
    }
   ],
   "source": [
    "# Create a nested dictionary to hold stats for each channel, rounding floats to 2 decimal places\n",
    "import numpy as np\n",
    "cols = ['total_posts', 'weeks_active', 'avg_posts_per_week']\n",
    "\n",
    "channel_stats_dict = {\n",
    "    channel: {\n",
    "        col: float(f\"{row[col]:.2f}\") if isinstance(row[col], (float, np.floating)) else int(row[col])\n",
    "        for col in cols\n",
    "    }\n",
    "    for channel, row in vendor_stats[cols].iterrows()\n",
    "}\n",
    "\n",
    "# print the stats for one channel\n",
    "for channel, stats in list(channel_stats_dict.items())[:3]:\n",
    "    print(f\"{channel}: {stats}\")"
   ]
  },
  {
   "cell_type": "markdown",
   "id": "8a695de4",
   "metadata": {},
   "source": [
    "## Market Reach & Engagement Analysis\n",
    "\n",
    "This section evaluates each vendor channel’s ability to reach and engage potential customers on Telegram.\n",
    "\n",
    "- **Average Views per Post:**  \n",
    "  For each channel, we compute the mean number of views across all their posts. This metric reflects the typical audience size for a vendor’s content.\n",
    "\n",
    "- **Top Performing Post:**  \n",
    "  For each vendor, we identify the post with the highest view count. This helps highlight their most successful product or promotional message, and can provide insight into what content resonates most with their audience.\n",
    "\n",
    "**Interpretation:**\n",
    "- Channels with high average views per post have greater market reach and visibility.\n",
    "- The top performing post can be analyzed for content, timing, or format to inform future marketing strategies."
   ]
  },
  {
   "cell_type": "code",
   "execution_count": 14,
   "id": "60f00cb2",
   "metadata": {},
   "outputs": [
    {
     "name": "stdout",
     "output_type": "stream",
     "text": [
      "Sheger online-store:\n",
      "  Avg Views/Post: 6285.18\n",
      "  Top Post: {'views': 9200, 'message': 'momcoc non stick cookware የማይዙ ማራኪ ግራናይት ቅብ ድስቶች 4 ድስቶች 1 መጥበሻ ከነ ክዳናቸው እንዲሁም ሁለት ጭልፋዎች በአንድ ላይ ዋጋ፦ 8,800 ብር ውስን ፍሬ ነው ያለን/ Limited Stock አድራሻ ቁ.2 መገናኛ ስሪ ኤም ሲቲ ሞል ሁለተኛ ፎቅ ቢሮ ቁ. SL-05A(ከ ሊፍቱ ፊት ለ ፊት) ቁ.2 ለቡ መዳህኒዓለም ቤተ/ክርስቲያን ፊት ለፊት 2ኛ ፎቅ ቢሮ ቁጥር.214 ለቡ ቅርንጫፍ0973611819 0909522840 0923350054 በTelegram ለማዘዝ ይጠቀሙ @shager_onlinestore ለተጨማሪ ማብራሪያ የቴሌግራም ገፃችን https://t.me/Shageronlinestore', 'date': '2025-04-13 07:09:42+00:00'}\n",
      "HellooMarket:\n",
      "  Avg Views/Post: 3781.72\n",
      "  Top Post: {'views': 8162, 'message': 'ድካምዎን በብርታት ቀይረው ከወዳጆቾ ጋር እየተጫዎቱ የሚጠጡት ቡና ለማዘዝ 0974312223 ይደውሉ ወይም https://t.me/helloo_market_bot?start=172610001 ይጠቀሙ! መጠን: 1kg', 'date': '2024-10-27 18:02:21+00:00'}\n",
      "Shewa Brand:\n",
      "  Avg Views/Post: 14715.82\n",
      "  Top Post: {'views': 49336, 'message': 'adidas SUPERSTAR Size 36 MADE IN INDONESIA SHEWA BRAND የቴሌግራም ቻናላችንን ይቀላቀሉ https://t.me//shewabrand https://t.me//shewabrand https://t.me//shewabrand https://t.me//shewabrand የቤት ቁጥር 109 እና 110 በ inbox @shewat2 አዋሩን 0987336458 0948595409 ይደውሉልን', 'date': '2023-10-02 08:16:44+00:00'}\n"
     ]
    }
   ],
   "source": [
    "# Market Reach & Engagement Analysis\n",
    "\n",
    "# 1. Calculate average views per post for each channel\n",
    "avg_views = (\n",
    "    cleaned_normalized_data\n",
    "    .groupby('Channel Title')['Views']\n",
    "    .mean()\n",
    "    .round(2)\n",
    "    .to_dict()\n",
    ")\n",
    "\n",
    "# 2. Identify the top performing post (highest view count) for each channel\n",
    "top_posts = (\n",
    "    cleaned_normalized_data\n",
    "    .loc[cleaned_normalized_data.groupby('Channel Title')['Views'].idxmax()]\n",
    "    .set_index('Channel Title')\n",
    ")\n",
    "\n",
    "# Add these metrics channel_stats_dict\n",
    "for channel in channel_stats_dict:\n",
    "    # Average views per post\n",
    "    channel_stats_dict[channel]['avg_views_per_post'] = float(avg_views.get(channel, 0))\n",
    "    # Top performing post info\n",
    "    if channel in top_posts.index:\n",
    "        channel_stats_dict[channel]['top_post'] = {\n",
    "            'views': int(top_posts.loc[channel, 'Views']),\n",
    "            'message': top_posts.loc[channel, 'Message'],\n",
    "            'date': str(top_posts.loc[channel, 'Date'])\n",
    "        }\n",
    "    else:\n",
    "        channel_stats_dict[channel]['top_post'] = None\n",
    "\n",
    "# Example: print stats for a few channels\n",
    "for channel, stats in list(channel_stats_dict.items())[:3]:\n",
    "    print(f\"{channel}:\")\n",
    "    print(f\"  Avg Views/Post: {stats['avg_views_per_post']}\")\n",
    "    print(f\"  Top Post: {stats['top_post']}\")"
   ]
  },
  {
   "cell_type": "markdown",
   "id": "476a5498",
   "metadata": {},
   "source": [
    "## Product and Price Extraction from Top Posts\n",
    "\n",
    "In this step, we leverage our fine-tuned NER model to extract key business information—specifically, the **product name** and its **price**—from each vendor channel's top-performing post.\n",
    "\n",
    "- **Product Extraction:**  \n",
    "  For each channel's most-viewed post, we use the NER pipeline to identify and extract the first entity tagged as a product.\n",
    "\n",
    "- **Price Extraction:**  \n",
    "  The NER pipeline also identifies price entities, which may appear in various formats (e.g., \"ዋጋ:-550ብር\", \"price -600\", etc.).  \n",
    "  We use a regular expression to robustly extract the numeric value from the price string, converting it to an integer for consistency and further analysis.\n",
    "\n",
    "**Interpretation:**  \n",
    "- This process allows us to automatically build a structured summary of each vendor's most popular product and its listed price, enabling downstream analytics such as price comparisons, product popularity tracking, and market trend analysis."
   ]
  },
  {
   "cell_type": "code",
   "execution_count": 15,
   "id": "da97426f",
   "metadata": {},
   "outputs": [
    {
     "name": "stderr",
     "output_type": "stream",
     "text": [
      "Device set to use cpu\n"
     ]
    }
   ],
   "source": [
    "from transformers import AutoTokenizer, AutoModelForTokenClassification, pipeline\n",
    "\n",
    "model_path = \"../models/my_xml_ner_model\"  # e.g., \"./saved_model/ner_model\"\n",
    "\n",
    "tokenizer = AutoTokenizer.from_pretrained(model_path)\n",
    "model = AutoModelForTokenClassification.from_pretrained(model_path)\n",
    "\n",
    "ner_pipeline = pipeline(\"token-classification\", model=model, tokenizer=tokenizer, aggregation_strategy=\"simple\")"
   ]
  },
  {
   "cell_type": "code",
   "execution_count": 27,
   "id": "84f061a2",
   "metadata": {},
   "outputs": [
    {
     "name": "stdout",
     "output_type": "stream",
     "text": [
      "Sheger online-store:\n",
      "  Product: momcoc non stick cookware\n",
      "  Price: 8800\n",
      "HellooMarket:\n",
      "  Product: ቡና\n",
      "  Price: None\n",
      "Shewa Brand:\n",
      "  Product: adidas SUPERSTAR\n",
      "  Price: None\n"
     ]
    }
   ],
   "source": [
    "import re\n",
    "\n",
    "def extract_product_and_price(text, ner_pipeline):\n",
    "    \"\"\"\n",
    "    Extracts the product and price from a given text using the NER pipeline.\n",
    "    Returns a tuple: (product, price_int or None)\n",
    "    \"\"\"\n",
    "    entities = ner_pipeline(text)\n",
    "    product = None\n",
    "    price = None\n",
    "\n",
    "    # Find product entity (first occurrence)\n",
    "    for ent in entities:\n",
    "        if ent['entity_group'].lower() == 'product':\n",
    "            product = ent['word']\n",
    "            break\n",
    "\n",
    "    # Find price entity (first occurrence)\n",
    "    for ent in entities:\n",
    "        if ent['entity_group'].lower() == 'price':\n",
    "            # Extract number from the price string using regex\n",
    "            match = re.search(r'[-+]?\\d[\\d,]*', ent['word'])\n",
    "            if match:\n",
    "                # Remove commas and convert to int\n",
    "                price = int(match.group(0).replace(',', ''))\n",
    "            break\n",
    "\n",
    "    return product, price\n",
    "\n",
    "# Example usage for all channels' top posts:\n",
    "for channel, stats in channel_stats_dict.items():\n",
    "    top_post = stats.get('top_post')\n",
    "    if top_post and top_post['message']:\n",
    "        product, price = extract_product_and_price(top_post['message'], ner_pipeline)\n",
    "        channel_stats_dict[channel]['top_post']['product'] = product\n",
    "        channel_stats_dict[channel]['top_post']['price'] = price\n",
    "\n",
    "# Print example\n",
    "for channel, stats in list(channel_stats_dict.items())[:3]:\n",
    "    print(f\"{channel}:\")\n",
    "    print(f\"  Product: {stats['top_post'].get('product')}\")\n",
    "    print(f\"  Price: {stats['top_post'].get('price')}\")"
   ]
  },
  {
   "cell_type": "code",
   "execution_count": 28,
   "id": "0ce04804",
   "metadata": {},
   "outputs": [
    {
     "name": "stdout",
     "output_type": "stream",
     "text": [
      "Sheger online-store:\n",
      "  Product: momcoc non stick cookware\n",
      "  Price: 8800\n",
      "HellooMarket:\n",
      "  Product: ቡና\n",
      "  Price: None\n",
      "Shewa Brand:\n",
      "  Product: adidas SUPERSTAR\n",
      "  Price: None\n",
      "NEVA COMPUTER®:\n",
      "  Product: REPUBLIC OF GAMERS STANDARD\n",
      "  Price: None\n",
      "Fashion tera:\n",
      "  Product: VIGUER Automatic Watches (Men)\n",
      "  Price: 3500\n"
     ]
    }
   ],
   "source": [
    "# Print example\n",
    "for channel, stats in list(channel_stats_dict.items())[:]:\n",
    "    print(f\"{channel}:\")\n",
    "    print(f\"  Product: {stats['top_post'].get('product')}\")\n",
    "    print(f\"  Price: {stats['top_post'].get('price')}\")"
   ]
  },
  {
   "cell_type": "markdown",
   "id": "791993d0",
   "metadata": {},
   "source": [
    "None highlights products that price was not specified for"
   ]
  },
  {
   "cell_type": "markdown",
   "id": "d1409522",
   "metadata": {},
   "source": [
    "## Business Profile: Average Price Point\n",
    "\n",
    "This step uses your fine-tuned NER model to extract and analyze the **average price point** for each vendor channel.\n",
    "\n",
    "- **How it works:**  \n",
    "  For every message in each channel, the NER model is used to extract price entities. All detected prices are converted to integers and averaged for each channel.\n",
    "\n",
    "- **Interpretation:**  \n",
    "  - **High average price point:** The vendor may be a low-volume, high-margin seller (e.g., luxury goods).\n",
    "  - **Low average price point:** The vendor may be a high-volume, low-margin seller (e.g., everyday items).\n",
    "\n",
    "This metric helps you profile vendors by their typical product pricing and market positioning."
   ]
  },
  {
   "cell_type": "code",
   "execution_count": 24,
   "id": "cb2add70",
   "metadata": {},
   "outputs": [
    {
     "name": "stdout",
     "output_type": "stream",
     "text": [
      "Sheger online-store:\n",
      "  Average Price Point: 761.9\n",
      "HellooMarket:\n",
      "  Average Price Point: None\n",
      "Shewa Brand:\n",
      "  Average Price Point: None\n"
     ]
    }
   ],
   "source": [
    "import re\n",
    "\n",
    "def extract_price(text, ner_pipeline):\n",
    "    \"\"\"\n",
    "    Extracts the first price entity from text using the NER pipeline.\n",
    "    Returns the price as an integer if found, else None.\n",
    "    \"\"\"\n",
    "    entities = ner_pipeline(text)\n",
    "    for ent in entities:\n",
    "        if ent['entity_group'].lower() == 'price':\n",
    "            match = re.search(r'[-+]?\\d[\\d,]*', ent['word'])\n",
    "            if match:\n",
    "                return int(match.group(0).replace(',', ''))\n",
    "    return None\n",
    "\n",
    "# For each channel, calculate the average price and add it to channel_stats_dict\n",
    "for channel, group in cleaned_normalized_data.groupby('Channel Title'):\n",
    "    prices = []\n",
    "    for msg in group['Message']:\n",
    "        price = extract_price(str(msg), ner_pipeline)\n",
    "        if price is not None:\n",
    "            if channel == \"Fashion tera\":\n",
    "                if price <20000:\n",
    "                    prices.append(price)\n",
    "                else:\n",
    "                    continue\n",
    "            elif channel != \"Fashion tera\":\n",
    "                prices.append(price)\n",
    "    avg_price = round(sum(prices) / len(prices), 2) if prices else None\n",
    "    if channel in channel_stats_dict:\n",
    "        channel_stats_dict[channel]['avg_price_point'] = avg_price\n",
    "\n",
    "# Example: print stats for a few channels\n",
    "for channel, stats in list(channel_stats_dict.items())[:3]:\n",
    "    print(f\"{channel}:\")\n",
    "    print(f\"  Average Price Point: {stats.get('avg_price_point')}\")"
   ]
  },
  {
   "cell_type": "code",
   "execution_count": 25,
   "id": "82a098e2",
   "metadata": {},
   "outputs": [
    {
     "name": "stdout",
     "output_type": "stream",
     "text": [
      "Sheger online-store:\n",
      "  Average Price Point: 761.9\n",
      "HellooMarket:\n",
      "  Average Price Point: None\n",
      "Shewa Brand:\n",
      "  Average Price Point: None\n",
      "NEVA COMPUTER®:\n",
      "  Average Price Point: 59112.15\n",
      "Fashion tera:\n",
      "  Average Price Point: 3128.26\n"
     ]
    }
   ],
   "source": [
    "# Example: print stats for a few channels\n",
    "for channel, stats in list(channel_stats_dict.items())[:]:\n",
    "    print(f\"{channel}:\")\n",
    "    print(f\"  Average Price Point: {stats.get('avg_price_point')}\")"
   ]
  },
  {
   "cell_type": "code",
   "execution_count": 29,
   "id": "4574ad75",
   "metadata": {},
   "outputs": [
    {
     "name": "stdout",
     "output_type": "stream",
     "text": [
      "Sheger online-store: Lending Score = 0.369\n",
      "HellooMarket: Lending Score = 0.217\n",
      "Shewa Brand: Lending Score = 0.584\n",
      "NEVA COMPUTER®: Lending Score = 0.406\n",
      "Fashion tera: Lending Score = 0.083\n"
     ]
    }
   ],
   "source": [
    "import numpy as np\n",
    "\n",
    "# Gather all values for normalization\n",
    "posts = [stats['avg_posts_per_week'] for stats in channel_stats_dict.values()]\n",
    "views = [stats['avg_views_per_post'] for stats in channel_stats_dict.values()]\n",
    "prices = [stats['avg_price_point'] for stats in channel_stats_dict.values() if stats['avg_price_point'] is not None]\n",
    "\n",
    "def min_max(val, min_val, max_val):\n",
    "    if max_val == min_val:\n",
    "        return 0.0\n",
    "    return (val - min_val) / (max_val - min_val)\n",
    "\n",
    "min_posts, max_posts = min(posts), max(posts)\n",
    "min_views, max_views = min(views), max(views)\n",
    "min_price, max_price = (min(prices), max(prices)) if prices else (0, 1)\n",
    "\n",
    "for channel, stats in channel_stats_dict.items():\n",
    "    norm_posts = min_max(stats['avg_posts_per_week'], min_posts, max_posts)\n",
    "    norm_views = min_max(stats['avg_views_per_post'], min_views, max_views)\n",
    "    price = stats['avg_price_point']\n",
    "    norm_price = min_max(price, min_price, max_price) if price is not None else None\n",
    "\n",
    "    # If price is missing, only use posts and views (weights sum to 1)\n",
    "    if norm_price is not None:\n",
    "        lending_score = 0.3 * norm_posts + 0.3 * norm_views + 0.4 * norm_price\n",
    "    else:\n",
    "        lending_score = (0.5 * norm_posts + 0.5 * norm_views)  # weights sum to 1\n",
    "\n",
    "    stats['lending_score'] = round(lending_score, 3)\n",
    "\n",
    "# Example: print lending scores\n",
    "for channel, stats in channel_stats_dict.items():\n",
    "    print(f\"{channel}: Lending Score = {stats['lending_score']}\")"
   ]
  },
  {
   "cell_type": "markdown",
   "id": "ab3df904",
   "metadata": {},
   "source": [
    "## Lending Score: Combining Business Metrics\n",
    "\n",
    "The **Lending Score** is a composite metric designed to help assess the lending potential of each vendor channel. It combines:\n",
    "\n",
    "- **Activity:** Average posts per week (30%)\n",
    "- **Engagement:** Average views per post (30%)\n",
    "- **Average Price Point:** Typical product price (40%)\n",
    "\n",
    "All metrics are normalized (min-max scaling) before combining.  \n",
    "If a channel does not post prices, the score is based only on activity and engagement (each weighted at 50%).\n",
    "\n",
    "**Interpretation:**\n",
    "- A higher Lending Score suggests a more active, engaged, and higher-value vendor—potentially a better lending candidate.\n",
    "- Channels with missing price data are still scored, but only on activity and engagement."
   ]
  },
  {
   "cell_type": "code",
   "execution_count": 30,
   "id": "e8f5e43b",
   "metadata": {},
   "outputs": [
    {
     "name": "stdout",
     "output_type": "stream",
     "text": [
      "| Channel Name | Avg. Views/Post | Posts/Week | Avg. Price (ETB) | Lending Score |\n",
      "|--------------|-----------------|------------|------------------|--------------|\n",
      "| Sheger online-store | 6285.18 | 23.68 | 761.9 | 0.369 |\n",
      "| HellooMarket | 3781.72 | 11.39 | None | 0.217 |\n",
      "| Shewa Brand | 14715.82 | 5.59 | None | 0.584 |\n",
      "| NEVA COMPUTER® | 3863.84 | 2.21 | 59112.15 | 0.406 |\n",
      "| Fashion tera | 6215.8 | 1.96 | 3128.26 | 0.083 |\n"
     ]
    }
   ],
   "source": [
    "print(\"| Channel Name | Avg. Views/Post | Posts/Week | Avg. Price (ETB) | Lending Score |\")\n",
    "print(\"|--------------|-----------------|------------|------------------|--------------|\")\n",
    "for channel, stats in channel_stats_dict.items():\n",
    "    avg_views = stats.get('avg_views_per_post', 'None')\n",
    "    posts_week = stats.get('avg_posts_per_week', 'None')\n",
    "    avg_price = stats.get('avg_price_point', 'None')\n",
    "    lending_score = stats.get('lending_score', 'None')\n",
    "    print(f\"| {channel} | {avg_views} | {posts_week} | {avg_price} | {lending_score} |\")"
   ]
  },
  {
   "cell_type": "markdown",
   "id": "15d5bb63",
   "metadata": {},
   "source": [
    "# Vendor score Board Table\n",
    "\n",
    "| Channel Name           | Avg. Views/Post | Posts/Week | Avg. Price (ETB) | Lending Score |\n",
    "|------------------------|-----------------|------------|------------------|--------------|\n",
    "| Sheger online-store         |  6285.18          |   23.68     |     761.9       |    0.369     |\n",
    "| HellooMarket           |  3781.72        |   11.39     |     None       |    0.217     |\n",
    "| Shewa Brand           |  14715.82        |   5.59     |      None        |    0.584     |\n",
    "| NEVA COMPUTER®         |  3863.84          |   2.21     |      59112.15        |    0.406     |\n",
    "| Fashion tera         |  6215.8         |   1.96     |     3128.26       |    0.083     |"
   ]
  }
 ],
 "metadata": {
  "kernelspec": {
   "display_name": ".venv",
   "language": "python",
   "name": "python3"
  },
  "language_info": {
   "codemirror_mode": {
    "name": "ipython",
    "version": 3
   },
   "file_extension": ".py",
   "mimetype": "text/x-python",
   "name": "python",
   "nbconvert_exporter": "python",
   "pygments_lexer": "ipython3",
   "version": "3.13.2"
  }
 },
 "nbformat": 4,
 "nbformat_minor": 5
}
